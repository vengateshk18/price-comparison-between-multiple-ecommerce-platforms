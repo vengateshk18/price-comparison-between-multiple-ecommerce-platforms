{
 "cells": [
  {
   "cell_type": "code",
   "execution_count": null,
   "metadata": {},
   "outputs": [],
   "source": [
    "import pandas as pd\n",
    "import numpy as np\n",
    "import matplotlib.pyplot as plt\n",
    "from sklearn.cluster import KMeans\n",
    "\n",
    "product = \"iphone 14\"\n",
    "\n",
    "# Load data from Excel files\n",
    "amazon_df = pd.read_excel('iphone_amazon_data.xlsx')  # Replace with the actual file name\n",
    "flipkart_df = pd.read_excel('iphone_flipkart_data.xlsx')  # Replace with the actual file name\n",
    "\n",
    "# Extract and preprocess prices for \"iPhone 14\" from Amazon DataFrame\n",
    "if 'Product_Name' in amazon_df.columns and 'Product_price' in amazon_df.columns:\n",
    "    amazon_rows = amazon_df.loc[amazon_df['Product_name'].str.contains('product', case=False)]\n",
    "    amazon_prices = amazon_rows['Product_rice'].str.replace('[^0-9.]', '', regex=True).astype(float)\n",
    "\n",
    "# Extract and preprocess prices for \"iPhone 14\" from Flipkart DataFrame\n",
    "if 'Product Name' in flipkart_df.columns and 'Price' in flipkart_df.columns:\n",
    "    flipkart_rows = flipkart_df.loc[flipkart_df['Product Name'].str.contains('iPhone 14', case=False)]\n",
    "    flipkart_prices = flipkart_rows['Price'].str.replace('[^0-9.]', '', regex=True).astype(float)\n",
    "\n",
    "# Calculate price differences\n",
    "price_differences = np.array(amazon_prices) - np.array(flipkart_prices)\n",
    "\n",
    "# Reshape the price differences array for clustering\n",
    "price_differences = price_differences.reshape(-1, 1)\n",
    "\n",
    "# Apply K-Means clustering\n",
    "num_clusters = 3  # You can adjust the number of clusters as needed\n",
    "kmeans = KMeans(n_clusters=num_clusters, random_state=0).fit(price_differences)\n",
    "cluster_labels = kmeans.labels_\n",
    "\n",
    "# Create a scatter plot to visualize the clusters\n",
    "plt.scatter(amazon_prices, flipkart_prices, c=cluster_labels, cmap='viridis')\n",
    "plt.xlabel('Amazon Prices')\n",
    "plt.ylabel('Flipkart Prices')\n",
    "plt.title('Price Comparison for iPhone 14 (Clustered)')\n",
    "plt.show()\n"
   ]
  }
 ],
 "metadata": {
  "kernelspec": {
   "display_name": "Python 3",
   "language": "python",
   "name": "python3"
  },
  "language_info": {
   "codemirror_mode": {
    "name": "ipython",
    "version": 3
   },
   "file_extension": ".py",
   "mimetype": "text/x-python",
   "name": "python",
   "nbconvert_exporter": "python",
   "pygments_lexer": "ipython3",
   "version": "3.11.4"
  },
  "orig_nbformat": 4
 },
 "nbformat": 4,
 "nbformat_minor": 2
}
